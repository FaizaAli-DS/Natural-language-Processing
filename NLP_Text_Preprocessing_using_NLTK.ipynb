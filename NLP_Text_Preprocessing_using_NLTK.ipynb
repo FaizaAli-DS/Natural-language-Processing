{
  "nbformat": 4,
  "nbformat_minor": 0,
  "metadata": {
    "colab": {
      "provenance": [],
      "gpuType": "T4",
      "authorship_tag": "ABX9TyMi3lG/1msokVIKNjznWgA0",
      "include_colab_link": true
    },
    "kernelspec": {
      "name": "python3",
      "display_name": "Python 3"
    },
    "language_info": {
      "name": "python"
    },
    "accelerator": "GPU"
  },
  "cells": [
    {
      "cell_type": "markdown",
      "metadata": {
        "id": "view-in-github",
        "colab_type": "text"
      },
      "source": [
        "<a href=\"https://colab.research.google.com/github/FaizaAli-Dev/Natural-language-Processing/blob/all-about-AI-and-Data-Science/NLP_Text_Preprocessing_using_NLTK.ipynb\" target=\"_parent\"><img src=\"https://colab.research.google.com/assets/colab-badge.svg\" alt=\"Open In Colab\"/></a>"
      ]
    },
    {
      "cell_type": "markdown",
      "source": [
        "## **NLP **"
      ],
      "metadata": {
        "id": "ImsGBIBOLCns"
      }
    },
    {
      "cell_type": "code",
      "execution_count": null,
      "metadata": {
        "colab": {
          "base_uri": "https://localhost:8080/"
        },
        "id": "4Y0iRU3LLAsS",
        "outputId": "af4f60ed-abac-43cd-d8ba-a7497eb4bfcf"
      },
      "outputs": [
        {
          "output_type": "stream",
          "name": "stderr",
          "text": [
            "[nltk_data] Downloading package stopwords to /root/nltk_data...\n",
            "[nltk_data]   Unzipping corpora/stopwords.zip.\n",
            "[nltk_data] Downloading package punkt to /root/nltk_data...\n",
            "[nltk_data]   Unzipping tokenizers/punkt.zip.\n",
            "[nltk_data] Downloading package averaged_perceptron_tagger to\n",
            "[nltk_data]     /root/nltk_data...\n",
            "[nltk_data]   Unzipping taggers/averaged_perceptron_tagger.zip.\n",
            "[nltk_data] Downloading package maxent_ne_chunker to\n",
            "[nltk_data]     /root/nltk_data...\n",
            "[nltk_data]   Unzipping chunkers/maxent_ne_chunker.zip.\n",
            "[nltk_data] Downloading package words to /root/nltk_data...\n",
            "[nltk_data]   Unzipping corpora/words.zip.\n"
          ]
        }
      ],
      "source": [
        "import os\n",
        "import nltk\n",
        "import random\n",
        "nltk.download('stopwords')\n",
        "nltk.download('punkt')\n",
        "nltk.download('averaged_perceptron_tagger') ##contains the pre-trained English [Part-of-Speech (POS]](https://en.wikipedia.org/wiki/Part_of_speech) tagger in NLTK\n",
        "nltk.download('maxent_ne_chunker')\n",
        "nltk.download('words')\n",
        "random.seed(92)"
      ]
    },
    {
      "cell_type": "code",
      "source": [
        "corpus = str([\"\"\"Natural Language Processing helps us do just that!\n",
        "\n",
        "Natural language processing (NLP) can be thought of as an intersection of Linguistics, Computer Science and Artificial Intelligence that helps computers understand, interpret and manipulate human language.\"\"\"])"
      ],
      "metadata": {
        "id": "mGsphD5fUar1"
      },
      "execution_count": null,
      "outputs": []
    },
    {
      "cell_type": "code",
      "source": [
        "token_list = []\n",
        "sentences = nltk.sent_tokenize(str(corpus))\n",
        "for sentence in sentences:\n",
        "  words = nltk.word_tokenize(sentence)\n",
        "  token_list.extend(words)  #append() adds a single element to the end of the list while, extend() can add multiple individual elements to the end of the list\n",
        "  tagged_words = nltk.pos_tag(words)\n",
        "  named_entities = nltk.ne_chunk(tagged_words)\n",
        "\n",
        "print(token_list)\n",
        "print ('\\nLength of word_list:', len(token_list))"
      ],
      "metadata": {
        "colab": {
          "base_uri": "https://localhost:8080/"
        },
        "id": "yMA1GTrzY-82",
        "outputId": "34fd5cd0-9c23-463c-ac8e-eb1347f6c879"
      },
      "execution_count": null,
      "outputs": [
        {
          "output_type": "stream",
          "name": "stdout",
          "text": [
            "['[', \"'Natural\", 'Language', 'Processing', 'helps', 'us', 'do', 'just', 'that', '!', '\\\\n\\\\nNatural', 'language', 'processing', '(', 'NLP', ')', 'can', 'be', 'thought', 'of', 'as', 'an', 'intersection', 'of', 'Linguistics', ',', 'Computer', 'Science', 'and', 'Artificial', 'Intelligence', 'that', 'helps', 'computers', 'understand', ',', 'interpret', 'and', 'manipulate', 'human', 'language', '.', \"'\", ']']\n",
            "\n",
            "Length of word_list: 44\n"
          ]
        }
      ]
    },
    {
      "cell_type": "code",
      "source": [
        "word_list = corpus.split()\n",
        "print(word_list)\n",
        "print ('\\nLength of word_list:', len(word_list))"
      ],
      "metadata": {
        "colab": {
          "base_uri": "https://localhost:8080/"
        },
        "id": "mPObTq2QZQ6O",
        "outputId": "93276c7b-5874-4615-c8c4-01318c3ddfe2"
      },
      "execution_count": null,
      "outputs": [
        {
          "output_type": "stream",
          "name": "stdout",
          "text": [
            "[\"['Natural\", 'Language', 'Processing', 'helps', 'us', 'do', 'just', 'that!\\\\n\\\\nNatural', 'language', 'processing', '(NLP)', 'can', 'be', 'thought', 'of', 'as', 'an', 'intersection', 'of', 'Linguistics,', 'Computer', 'Science', 'and', 'Artificial', 'Intelligence', 'that', 'helps', 'computers', 'understand,', 'interpret', 'and', 'manipulate', 'human', \"language.']\"]\n",
            "\n",
            "Length of word_list: 34\n"
          ]
        }
      ]
    },
    {
      "cell_type": "code",
      "source": [
        "alphabets_only = [word for word in word_list if word.isalpha()]\n",
        "print(alphabets_only)\n",
        "print ('\\nLength of word_list:', len(alphabets_only))"
      ],
      "metadata": {
        "colab": {
          "base_uri": "https://localhost:8080/"
        },
        "id": "P_T3N2jLLi0p",
        "outputId": "ba38ad71-e1d6-4f5c-9627-6a30269cb7df"
      },
      "execution_count": null,
      "outputs": [
        {
          "output_type": "stream",
          "name": "stdout",
          "text": [
            "['Language', 'Processing', 'helps', 'us', 'do', 'just', 'language', 'processing', 'can', 'be', 'thought', 'of', 'as', 'an', 'intersection', 'of', 'Computer', 'Science', 'and', 'Artificial', 'Intelligence', 'that', 'helps', 'computers', 'interpret', 'and', 'manipulate', 'human']\n",
            "\n",
            "Length of word_list: 28\n"
          ]
        }
      ]
    },
    {
      "cell_type": "markdown",
      "source": [
        "Text Normalization"
      ],
      "metadata": {
        "id": "UggwKnyaLoQG"
      }
    },
    {
      "cell_type": "code",
      "source": [
        "lower_case = [word.lower() for word in alphabets_only]\n",
        "print(lower_case)\n",
        "print ('\\nLength of word_list:', len(lower_case))"
      ],
      "metadata": {
        "colab": {
          "base_uri": "https://localhost:8080/"
        },
        "id": "q5_cOWnsLnhJ",
        "outputId": "eb06b84b-0f63-4882-da31-99bd45198f70"
      },
      "execution_count": null,
      "outputs": [
        {
          "output_type": "stream",
          "name": "stdout",
          "text": [
            "['language', 'processing', 'helps', 'us', 'do', 'just', 'language', 'processing', 'can', 'be', 'thought', 'of', 'as', 'an', 'intersection', 'of', 'computer', 'science', 'and', 'artificial', 'intelligence', 'that', 'helps', 'computers', 'interpret', 'and', 'manipulate', 'human']\n",
            "\n",
            "Length of word_list: 28\n"
          ]
        }
      ]
    },
    {
      "cell_type": "code",
      "source": [
        "from nltk.corpus import stopwords\n",
        "\n",
        "stopwords_nltk = set(stopwords.words('english'))\n",
        "print(stopwords_nltk)\n",
        "print ('\\nLength of word_list:', len(stopwords_nltk), '\\n')\n",
        "\n",
        "cleaned_words = [word for word in lower_case if word not in stopwords_nltk]\n",
        "print(cleaned_words)\n",
        "print ('\\nLength of word_list:', len(cleaned_words))"
      ],
      "metadata": {
        "colab": {
          "base_uri": "https://localhost:8080/"
        },
        "id": "Hr2lR1JDLw-2",
        "outputId": "605e0745-ed80-4687-eb57-59ecf69c0749"
      },
      "execution_count": null,
      "outputs": [
        {
          "output_type": "stream",
          "name": "stdout",
          "text": [
            "{'if', 'hadn', \"wasn't\", 'm', 'of', 'very', 'do', \"hadn't\", 'don', 'more', 'he', 'to', 'each', 'only', 'not', 'are', 'but', \"hasn't\", 'been', 'ours', 'as', 'won', 'nor', 'own', 'once', 'be', 'this', 'other', 'hers', \"didn't\", 'hasn', 'about', 'again', 'y', 'no', 've', 're', 'doing', 'ourselves', 'while', 'above', \"don't\", 'did', 'yourself', 'during', \"you'd\", \"you'll\", 'him', 'didn', 'yourselves', 'a', 'so', 'our', \"shan't\", 'what', 'by', 'they', 'into', 'off', 't', \"mightn't\", 'up', 's', \"shouldn't\", 'until', 'd', 'will', 'himself', 'couldn', 'isn', 'it', 'between', 'an', \"isn't\", \"she's\", 'shan', 'ain', 'same', 'over', 'why', 'which', \"it's\", 'or', 'who', 'them', 'before', 'when', 'your', 'she', 'all', 'the', 'through', 'weren', 'on', 'where', \"weren't\", 'has', 'after', 'such', 'both', 'its', 'than', 'in', 'wouldn', 'any', 'you', 'these', 'being', \"couldn't\", 'does', 'her', 'those', 'because', 'aren', 'itself', 'against', \"haven't\", 'now', 'ma', 'have', 'most', 'whom', 'under', 'am', 'down', 'herself', 'that', 'myself', \"wouldn't\", 'from', 'few', 'o', 'doesn', 'out', 'their', 'needn', 'for', 'there', \"mustn't\", 'themselves', 'me', 'll', 'i', 'mightn', 'here', 'some', \"aren't\", 'his', 'too', 'can', 'how', \"should've\", 'wasn', \"that'll\", 'with', 'below', 'just', 'and', 'further', 'my', 'was', \"doesn't\", 'then', 'is', 'haven', 'mustn', 'yours', 'theirs', 'at', 'had', 'were', 'should', \"you're\", 'we', \"you've\", \"needn't\", 'having', 'shouldn', \"won't\"}\n",
            "\n",
            "Length of word_list: 179 \n",
            "\n",
            "['language', 'processing', 'helps', 'us', 'language', 'processing', 'thought', 'intersection', 'computer', 'science', 'artificial', 'intelligence', 'helps', 'computers', 'interpret', 'manipulate', 'human']\n",
            "\n",
            "Length of word_list: 17\n"
          ]
        }
      ]
    },
    {
      "cell_type": "code",
      "source": [
        "stop_words = stopwords.words('english')  # Get the list of English stopwords\n",
        "print(stop_words)\n",
        "available_languages = stopwords.fileids()\n",
        "print(available_languages)"
      ],
      "metadata": {
        "colab": {
          "base_uri": "https://localhost:8080/"
        },
        "id": "m026Zu0yL1jL",
        "outputId": "4401a8b2-02f6-4bcf-a1d1-1f406c956246"
      },
      "execution_count": null,
      "outputs": [
        {
          "output_type": "stream",
          "name": "stdout",
          "text": [
            "['i', 'me', 'my', 'myself', 'we', 'our', 'ours', 'ourselves', 'you', \"you're\", \"you've\", \"you'll\", \"you'd\", 'your', 'yours', 'yourself', 'yourselves', 'he', 'him', 'his', 'himself', 'she', \"she's\", 'her', 'hers', 'herself', 'it', \"it's\", 'its', 'itself', 'they', 'them', 'their', 'theirs', 'themselves', 'what', 'which', 'who', 'whom', 'this', 'that', \"that'll\", 'these', 'those', 'am', 'is', 'are', 'was', 'were', 'be', 'been', 'being', 'have', 'has', 'had', 'having', 'do', 'does', 'did', 'doing', 'a', 'an', 'the', 'and', 'but', 'if', 'or', 'because', 'as', 'until', 'while', 'of', 'at', 'by', 'for', 'with', 'about', 'against', 'between', 'into', 'through', 'during', 'before', 'after', 'above', 'below', 'to', 'from', 'up', 'down', 'in', 'out', 'on', 'off', 'over', 'under', 'again', 'further', 'then', 'once', 'here', 'there', 'when', 'where', 'why', 'how', 'all', 'any', 'both', 'each', 'few', 'more', 'most', 'other', 'some', 'such', 'no', 'nor', 'not', 'only', 'own', 'same', 'so', 'than', 'too', 'very', 's', 't', 'can', 'will', 'just', 'don', \"don't\", 'should', \"should've\", 'now', 'd', 'll', 'm', 'o', 're', 've', 'y', 'ain', 'aren', \"aren't\", 'couldn', \"couldn't\", 'didn', \"didn't\", 'doesn', \"doesn't\", 'hadn', \"hadn't\", 'hasn', \"hasn't\", 'haven', \"haven't\", 'isn', \"isn't\", 'ma', 'mightn', \"mightn't\", 'mustn', \"mustn't\", 'needn', \"needn't\", 'shan', \"shan't\", 'shouldn', \"shouldn't\", 'wasn', \"wasn't\", 'weren', \"weren't\", 'won', \"won't\", 'wouldn', \"wouldn't\"]\n",
            "['arabic', 'azerbaijani', 'basque', 'bengali', 'catalan', 'chinese', 'danish', 'dutch', 'english', 'finnish', 'french', 'german', 'greek', 'hebrew', 'hinglish', 'hungarian', 'indonesian', 'italian', 'kazakh', 'nepali', 'norwegian', 'portuguese', 'romanian', 'russian', 'slovene', 'spanish', 'swedish', 'tajik', 'turkish']\n"
          ]
        }
      ]
    }
  ]
}